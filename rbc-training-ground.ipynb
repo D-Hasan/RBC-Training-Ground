{
 "cells": [
  {
   "cell_type": "code",
   "execution_count": 25,
   "metadata": {
    "nbpresent": {
     "id": "6aaf9e44-6e30-483d-bcdb-4fdd696388b5"
    }
   },
   "outputs": [],
   "source": [
    "import pandas\n",
    "import matplotlib.pyplot as plt\n",
    "%matplotlib inline"
   ]
  },
  {
   "cell_type": "code",
   "execution_count": 11,
   "metadata": {
    "nbpresent": {
     "id": "f3b728a9-6eaf-4e5d-9dd8-f88dee7da969"
    }
   },
   "outputs": [],
   "source": [
    "finalResults = pandas.read_excel('qualifier-final.xlsx', sheet_name='final')\n",
    "#df_final.describe()"
   ]
  },
  {
   "cell_type": "code",
   "execution_count": 12,
   "metadata": {
    "nbpresent": {
     "id": "93e0522f-aea7-4355-bb66-eead3976c488"
    }
   },
   "outputs": [],
   "source": [
    "qualifiedON = pandas.read_excel('nom-name.xlsx', sheet_name='ON')"
   ]
  },
  {
   "cell_type": "code",
   "execution_count": 13,
   "metadata": {
    "nbpresent": {
     "id": "24d64ab8-f872-4e9c-91f0-8ee86e3b0900"
    }
   },
   "outputs": [
    {
     "data": {
      "text/html": [
       "<div>\n",
       "<style scoped>\n",
       "    .dataframe tbody tr th:only-of-type {\n",
       "        vertical-align: middle;\n",
       "    }\n",
       "\n",
       "    .dataframe tbody tr th {\n",
       "        vertical-align: top;\n",
       "    }\n",
       "\n",
       "    .dataframe thead th {\n",
       "        text-align: right;\n",
       "    }\n",
       "</style>\n",
       "<table border=\"1\" class=\"dataframe\">\n",
       "  <thead>\n",
       "    <tr style=\"text-align: right;\">\n",
       "      <th></th>\n",
       "      <th>id</th>\n",
       "      <th>Judo</th>\n",
       "      <th>Triathlon</th>\n",
       "      <th>Ski.Cross</th>\n",
       "      <th>Water.Polo</th>\n",
       "      <th>Freestyle.</th>\n",
       "      <th>NSO.Contacted.Athlete.</th>\n",
       "      <th>Comments</th>\n",
       "    </tr>\n",
       "  </thead>\n",
       "  <tbody>\n",
       "    <tr>\n",
       "      <th>count</th>\n",
       "      <td>75.000000</td>\n",
       "      <td>0.0</td>\n",
       "      <td>0.0</td>\n",
       "      <td>0.0</td>\n",
       "      <td>0.0</td>\n",
       "      <td>0.0</td>\n",
       "      <td>0.0</td>\n",
       "      <td>0.0</td>\n",
       "    </tr>\n",
       "    <tr>\n",
       "      <th>mean</th>\n",
       "      <td>278.800000</td>\n",
       "      <td>NaN</td>\n",
       "      <td>NaN</td>\n",
       "      <td>NaN</td>\n",
       "      <td>NaN</td>\n",
       "      <td>NaN</td>\n",
       "      <td>NaN</td>\n",
       "      <td>NaN</td>\n",
       "    </tr>\n",
       "    <tr>\n",
       "      <th>std</th>\n",
       "      <td>73.609268</td>\n",
       "      <td>NaN</td>\n",
       "      <td>NaN</td>\n",
       "      <td>NaN</td>\n",
       "      <td>NaN</td>\n",
       "      <td>NaN</td>\n",
       "      <td>NaN</td>\n",
       "      <td>NaN</td>\n",
       "    </tr>\n",
       "    <tr>\n",
       "      <th>min</th>\n",
       "      <td>199.000000</td>\n",
       "      <td>NaN</td>\n",
       "      <td>NaN</td>\n",
       "      <td>NaN</td>\n",
       "      <td>NaN</td>\n",
       "      <td>NaN</td>\n",
       "      <td>NaN</td>\n",
       "      <td>NaN</td>\n",
       "    </tr>\n",
       "    <tr>\n",
       "      <th>25%</th>\n",
       "      <td>221.500000</td>\n",
       "      <td>NaN</td>\n",
       "      <td>NaN</td>\n",
       "      <td>NaN</td>\n",
       "      <td>NaN</td>\n",
       "      <td>NaN</td>\n",
       "      <td>NaN</td>\n",
       "      <td>NaN</td>\n",
       "    </tr>\n",
       "    <tr>\n",
       "      <th>50%</th>\n",
       "      <td>246.000000</td>\n",
       "      <td>NaN</td>\n",
       "      <td>NaN</td>\n",
       "      <td>NaN</td>\n",
       "      <td>NaN</td>\n",
       "      <td>NaN</td>\n",
       "      <td>NaN</td>\n",
       "      <td>NaN</td>\n",
       "    </tr>\n",
       "    <tr>\n",
       "      <th>75%</th>\n",
       "      <td>327.500000</td>\n",
       "      <td>NaN</td>\n",
       "      <td>NaN</td>\n",
       "      <td>NaN</td>\n",
       "      <td>NaN</td>\n",
       "      <td>NaN</td>\n",
       "      <td>NaN</td>\n",
       "      <td>NaN</td>\n",
       "    </tr>\n",
       "    <tr>\n",
       "      <th>max</th>\n",
       "      <td>444.000000</td>\n",
       "      <td>NaN</td>\n",
       "      <td>NaN</td>\n",
       "      <td>NaN</td>\n",
       "      <td>NaN</td>\n",
       "      <td>NaN</td>\n",
       "      <td>NaN</td>\n",
       "      <td>NaN</td>\n",
       "    </tr>\n",
       "  </tbody>\n",
       "</table>\n",
       "</div>"
      ],
      "text/plain": [
       "               id  Judo  Triathlon  Ski.Cross  Water.Polo  Freestyle.  \\\n",
       "count   75.000000   0.0        0.0        0.0         0.0         0.0   \n",
       "mean   278.800000   NaN        NaN        NaN         NaN         NaN   \n",
       "std     73.609268   NaN        NaN        NaN         NaN         NaN   \n",
       "min    199.000000   NaN        NaN        NaN         NaN         NaN   \n",
       "25%    221.500000   NaN        NaN        NaN         NaN         NaN   \n",
       "50%    246.000000   NaN        NaN        NaN         NaN         NaN   \n",
       "75%    327.500000   NaN        NaN        NaN         NaN         NaN   \n",
       "max    444.000000   NaN        NaN        NaN         NaN         NaN   \n",
       "\n",
       "       NSO.Contacted.Athlete.  Comments  \n",
       "count                     0.0       0.0  \n",
       "mean                      NaN       NaN  \n",
       "std                       NaN       NaN  \n",
       "min                       NaN       NaN  \n",
       "25%                       NaN       NaN  \n",
       "50%                       NaN       NaN  \n",
       "75%                       NaN       NaN  \n",
       "max                       NaN       NaN  "
      ]
     },
     "execution_count": 13,
     "metadata": {},
     "output_type": "execute_result"
    }
   ],
   "source": [
    "qualifiedON.describe()"
   ]
  },
  {
   "cell_type": "code",
   "execution_count": 14,
   "metadata": {},
   "outputs": [
    {
     "data": {
      "text/html": [
       "<div>\n",
       "<style scoped>\n",
       "    .dataframe tbody tr th:only-of-type {\n",
       "        vertical-align: middle;\n",
       "    }\n",
       "\n",
       "    .dataframe tbody tr th {\n",
       "        vertical-align: top;\n",
       "    }\n",
       "\n",
       "    .dataframe thead th {\n",
       "        text-align: right;\n",
       "    }\n",
       "</style>\n",
       "<table border=\"1\" class=\"dataframe\">\n",
       "  <thead>\n",
       "    <tr style=\"text-align: right;\">\n",
       "      <th></th>\n",
       "      <th>id</th>\n",
       "      <th>Location</th>\n",
       "      <th>Gender</th>\n",
       "      <th>Contact.Instructions</th>\n",
       "      <th>Qualifier..Location</th>\n",
       "      <th>City</th>\n",
       "      <th>Province</th>\n",
       "      <th>Sport.prior.to.RBC.TG</th>\n",
       "      <th>Bobsleigh..Skeleton</th>\n",
       "      <th>Cycling</th>\n",
       "      <th>...</th>\n",
       "      <th>Canoe.Kayak</th>\n",
       "      <th>Judo</th>\n",
       "      <th>Triathlon</th>\n",
       "      <th>Ski.Cross</th>\n",
       "      <th>Water.Polo</th>\n",
       "      <th>Freestyle.</th>\n",
       "      <th>Athletics</th>\n",
       "      <th>NSO.Contacted.Athlete.</th>\n",
       "      <th>Currently.in.NSO.Program.</th>\n",
       "      <th>Comments</th>\n",
       "    </tr>\n",
       "  </thead>\n",
       "  <tbody>\n",
       "    <tr>\n",
       "      <th>0</th>\n",
       "      <td>444</td>\n",
       "      <td>TORONTO</td>\n",
       "      <td>F</td>\n",
       "      <td>NaN</td>\n",
       "      <td>Milton</td>\n",
       "      <td>Peterborough</td>\n",
       "      <td>Ontario</td>\n",
       "      <td>NaN</td>\n",
       "      <td>NaN</td>\n",
       "      <td>NaN</td>\n",
       "      <td>...</td>\n",
       "      <td>NaN</td>\n",
       "      <td>NaN</td>\n",
       "      <td>NaN</td>\n",
       "      <td>NaN</td>\n",
       "      <td>NaN</td>\n",
       "      <td>NaN</td>\n",
       "      <td>NaN</td>\n",
       "      <td>NaN</td>\n",
       "      <td>NaN</td>\n",
       "      <td>NaN</td>\n",
       "    </tr>\n",
       "    <tr>\n",
       "      <th>1</th>\n",
       "      <td>235</td>\n",
       "      <td>TORONTO</td>\n",
       "      <td>M</td>\n",
       "      <td>NaN</td>\n",
       "      <td>Milton</td>\n",
       "      <td>Sudbury</td>\n",
       "      <td>Ontario</td>\n",
       "      <td>NaN</td>\n",
       "      <td>NaN</td>\n",
       "      <td>NaN</td>\n",
       "      <td>...</td>\n",
       "      <td>NaN</td>\n",
       "      <td>NaN</td>\n",
       "      <td>NaN</td>\n",
       "      <td>NaN</td>\n",
       "      <td>NaN</td>\n",
       "      <td>NaN</td>\n",
       "      <td>NaN</td>\n",
       "      <td>NaN</td>\n",
       "      <td>NaN</td>\n",
       "      <td>NaN</td>\n",
       "    </tr>\n",
       "    <tr>\n",
       "      <th>2</th>\n",
       "      <td>270</td>\n",
       "      <td>TORONTO</td>\n",
       "      <td>F</td>\n",
       "      <td>NaN</td>\n",
       "      <td>Kingston</td>\n",
       "      <td>South Woodslee</td>\n",
       "      <td>Ontario</td>\n",
       "      <td>NaN</td>\n",
       "      <td>Y</td>\n",
       "      <td>NaN</td>\n",
       "      <td>...</td>\n",
       "      <td>NaN</td>\n",
       "      <td>NaN</td>\n",
       "      <td>NaN</td>\n",
       "      <td>NaN</td>\n",
       "      <td>NaN</td>\n",
       "      <td>NaN</td>\n",
       "      <td>Y</td>\n",
       "      <td>NaN</td>\n",
       "      <td>NaN</td>\n",
       "      <td>NaN</td>\n",
       "    </tr>\n",
       "    <tr>\n",
       "      <th>3</th>\n",
       "      <td>231</td>\n",
       "      <td>TORONTO</td>\n",
       "      <td>M</td>\n",
       "      <td>NaN</td>\n",
       "      <td>Toronto</td>\n",
       "      <td>Toronto</td>\n",
       "      <td>Ontario</td>\n",
       "      <td>NaN</td>\n",
       "      <td>NaN</td>\n",
       "      <td>NaN</td>\n",
       "      <td>...</td>\n",
       "      <td>NaN</td>\n",
       "      <td>NaN</td>\n",
       "      <td>NaN</td>\n",
       "      <td>NaN</td>\n",
       "      <td>NaN</td>\n",
       "      <td>NaN</td>\n",
       "      <td>NaN</td>\n",
       "      <td>NaN</td>\n",
       "      <td>NaN</td>\n",
       "      <td>NaN</td>\n",
       "    </tr>\n",
       "    <tr>\n",
       "      <th>4</th>\n",
       "      <td>248</td>\n",
       "      <td>TORONTO</td>\n",
       "      <td>M</td>\n",
       "      <td>NaN</td>\n",
       "      <td>Kingston</td>\n",
       "      <td>Kingston</td>\n",
       "      <td>Ontario</td>\n",
       "      <td>NaN</td>\n",
       "      <td>Y</td>\n",
       "      <td>NaN</td>\n",
       "      <td>...</td>\n",
       "      <td>NaN</td>\n",
       "      <td>NaN</td>\n",
       "      <td>NaN</td>\n",
       "      <td>NaN</td>\n",
       "      <td>NaN</td>\n",
       "      <td>NaN</td>\n",
       "      <td>Y</td>\n",
       "      <td>NaN</td>\n",
       "      <td>NaN</td>\n",
       "      <td>NaN</td>\n",
       "    </tr>\n",
       "  </tbody>\n",
       "</table>\n",
       "<p>5 rows × 22 columns</p>\n",
       "</div>"
      ],
      "text/plain": [
       "    id Location Gender Contact.Instructions Qualifier..Location  \\\n",
       "0  444  TORONTO      F                  NaN              Milton   \n",
       "1  235  TORONTO      M                  NaN              Milton   \n",
       "2  270  TORONTO      F                  NaN            Kingston   \n",
       "3  231  TORONTO      M                  NaN             Toronto   \n",
       "4  248  TORONTO      M                  NaN            Kingston   \n",
       "\n",
       "             City Province Sport.prior.to.RBC.TG Bobsleigh..Skeleton Cycling  \\\n",
       "0    Peterborough  Ontario                   NaN                 NaN     NaN   \n",
       "1         Sudbury  Ontario                   NaN                 NaN     NaN   \n",
       "2  South Woodslee  Ontario                   NaN                   Y     NaN   \n",
       "3         Toronto  Ontario                   NaN                 NaN     NaN   \n",
       "4        Kingston  Ontario                   NaN                   Y     NaN   \n",
       "\n",
       "     ...    Canoe.Kayak Judo Triathlon  Ski.Cross  Water.Polo  Freestyle.  \\\n",
       "0    ...            NaN  NaN       NaN        NaN         NaN         NaN   \n",
       "1    ...            NaN  NaN       NaN        NaN         NaN         NaN   \n",
       "2    ...            NaN  NaN       NaN        NaN         NaN         NaN   \n",
       "3    ...            NaN  NaN       NaN        NaN         NaN         NaN   \n",
       "4    ...            NaN  NaN       NaN        NaN         NaN         NaN   \n",
       "\n",
       "   Athletics  NSO.Contacted.Athlete. Currently.in.NSO.Program.  Comments  \n",
       "0        NaN                     NaN                       NaN       NaN  \n",
       "1        NaN                     NaN                       NaN       NaN  \n",
       "2          Y                     NaN                       NaN       NaN  \n",
       "3        NaN                     NaN                       NaN       NaN  \n",
       "4          Y                     NaN                       NaN       NaN  \n",
       "\n",
       "[5 rows x 22 columns]"
      ]
     },
     "execution_count": 14,
     "metadata": {},
     "output_type": "execute_result"
    }
   ],
   "source": [
    "qualifiedON.head()"
   ]
  },
  {
   "cell_type": "code",
   "execution_count": 15,
   "metadata": {},
   "outputs": [
    {
     "data": {
      "text/html": [
       "<div>\n",
       "<style scoped>\n",
       "    .dataframe tbody tr th:only-of-type {\n",
       "        vertical-align: middle;\n",
       "    }\n",
       "\n",
       "    .dataframe tbody tr th {\n",
       "        vertical-align: top;\n",
       "    }\n",
       "\n",
       "    .dataframe thead th {\n",
       "        text-align: right;\n",
       "    }\n",
       "</style>\n",
       "<table border=\"1\" class=\"dataframe\">\n",
       "  <thead>\n",
       "    <tr style=\"text-align: right;\">\n",
       "      <th></th>\n",
       "      <th>id</th>\n",
       "      <th>LOCATION</th>\n",
       "      <th>AGE</th>\n",
       "      <th>HEIGHT</th>\n",
       "      <th>WEIGHT</th>\n",
       "      <th>WINGSPAN</th>\n",
       "      <th>X0.10M</th>\n",
       "      <th>X0.30M</th>\n",
       "      <th>X0.40M</th>\n",
       "      <th>X30.40M</th>\n",
       "      <th>...</th>\n",
       "      <th>TRIPLE.BROAD.JUMP.1</th>\n",
       "      <th>SINGLE.BROAD.JUMP.1</th>\n",
       "      <th>ABSOLUTE.6SEC.PEAK.POWER.1</th>\n",
       "      <th>RELATIVE.6SEC.PEAK.POWER.1</th>\n",
       "      <th>UB.PUSH.1</th>\n",
       "      <th>UB.PULL.1</th>\n",
       "      <th>LB.PUSH.1</th>\n",
       "      <th>CONCEPT.TOTAL.1</th>\n",
       "      <th>ARM.LEG.BIKE.1</th>\n",
       "      <th>CUMULATIVE..PHYSICAL.TESTS.</th>\n",
       "    </tr>\n",
       "  </thead>\n",
       "  <tbody>\n",
       "    <tr>\n",
       "      <th>443</th>\n",
       "      <td>444</td>\n",
       "      <td>Toronto</td>\n",
       "      <td>15.526027</td>\n",
       "      <td>180.0</td>\n",
       "      <td>77.75</td>\n",
       "      <td>185.4</td>\n",
       "      <td>2.1</td>\n",
       "      <td>5.1</td>\n",
       "      <td>6.57</td>\n",
       "      <td>1.47</td>\n",
       "      <td>...</td>\n",
       "      <td>-1.2746</td>\n",
       "      <td>-1.151628</td>\n",
       "      <td>0.751441</td>\n",
       "      <td>-0.490673</td>\n",
       "      <td>-0.698352</td>\n",
       "      <td>-0.212278</td>\n",
       "      <td>0.248303</td>\n",
       "      <td>-0.113735</td>\n",
       "      <td>0.046841</td>\n",
       "      <td>-0.688715</td>\n",
       "    </tr>\n",
       "  </tbody>\n",
       "</table>\n",
       "<p>1 rows × 37 columns</p>\n",
       "</div>"
      ],
      "text/plain": [
       "      id LOCATION        AGE  HEIGHT  WEIGHT  WINGSPAN  X0.10M  X0.30M  \\\n",
       "443  444  Toronto  15.526027   180.0   77.75     185.4     2.1     5.1   \n",
       "\n",
       "     X0.40M  X30.40M             ...               TRIPLE.BROAD.JUMP.1  \\\n",
       "443    6.57     1.47             ...                           -1.2746   \n",
       "\n",
       "     SINGLE.BROAD.JUMP.1  ABSOLUTE.6SEC.PEAK.POWER.1  \\\n",
       "443            -1.151628                    0.751441   \n",
       "\n",
       "     RELATIVE.6SEC.PEAK.POWER.1  UB.PUSH.1  UB.PULL.1  LB.PUSH.1  \\\n",
       "443                   -0.490673  -0.698352  -0.212278   0.248303   \n",
       "\n",
       "     CONCEPT.TOTAL.1  ARM.LEG.BIKE.1  CUMULATIVE..PHYSICAL.TESTS.  \n",
       "443        -0.113735        0.046841                    -0.688715  \n",
       "\n",
       "[1 rows x 37 columns]"
      ]
     },
     "execution_count": 15,
     "metadata": {},
     "output_type": "execute_result"
    }
   ],
   "source": [
    "finalResults[finalResults['id'] == 444]"
   ]
  },
  {
   "cell_type": "code",
   "execution_count": 33,
   "metadata": {},
   "outputs": [
    {
     "data": {
      "text/plain": [
       "count    447.000000\n",
       "mean      18.605231\n",
       "std        3.573086\n",
       "min        0.000000\n",
       "25%       16.134932\n",
       "50%       18.000000\n",
       "75%       21.000000\n",
       "max       29.000000\n",
       "Name: AGE, dtype: float64"
      ]
     },
     "execution_count": 33,
     "metadata": {},
     "output_type": "execute_result"
    }
   ],
   "source": [
    "ages = finalResults.AGE\n",
    "ages.describe()"
   ]
  },
  {
   "cell_type": "code",
   "execution_count": 26,
   "metadata": {},
   "outputs": [
    {
     "data": {
      "text/plain": [
       "Text(0.5,1,'Ages for 447 Athletes')"
      ]
     },
     "execution_count": 26,
     "metadata": {},
     "output_type": "execute_result"
    },
    {
     "data": {
      "image/png": "[encoded data removed]",
      "text/plain": [
       "<Figure size 432x288 with 1 Axes>"
      ]
     },
     "metadata": {},
     "output_type": "display_data"
    }
   ],
   "source": [
    "ages.plot.hist(grid=True, bins=10, rwidth=0.9, color='#607c8e')\n",
    "plt.title('Ages for 447 Athletes')"
   ]
  },
  {
   "cell_type": "code",
   "execution_count": 34,
   "metadata": {},
   "outputs": [
    {
     "data": {
      "text/plain": [
       "46     0.0\n",
       "262    0.0\n",
       "436    0.0\n",
       "Name: AGE, dtype: float64"
      ]
     },
     "execution_count": 34,
     "metadata": {},
     "output_type": "execute_result"
    }
   ],
   "source": [
    "#Find where ages are 0, indicating no value\n",
    "ages.T[ages.T == 0]"
   ]
  },
  {
   "cell_type": "markdown",
   "metadata": {},
   "source": [
    "We see there are only 3 rows where the athlete's age is not listed. For now let's remove those rows to create an accurate histogram."
   ]
  },
  {
   "cell_type": "code",
   "execution_count": 35,
   "metadata": {},
   "outputs": [
    {
     "data": {
      "text/plain": [
       "count    444.000000\n",
       "mean      18.730942\n",
       "std        3.239351\n",
       "min       11.000000\n",
       "25%       16.194521\n",
       "50%       18.000000\n",
       "75%       21.000000\n",
       "max       29.000000\n",
       "Name: AGE, dtype: float64"
      ]
     },
     "execution_count": 35,
     "metadata": {},
     "output_type": "execute_result"
    }
   ],
   "source": [
    "ages = ages.T[ages.T != 0]\n",
    "ages.describe()"
   ]
  },
  {
   "cell_type": "code",
   "execution_count": 38,
   "metadata": {},
   "outputs": [
    {
     "data": {
      "text/plain": [
       "Text(0.5,1,'Ages for 444 Athletes')"
      ]
     },
     "execution_count": 38,
     "metadata": {},
     "output_type": "execute_result"
    },
    {
     "data": {
      "image/png": "[encoded data removed]",
      "text/plain": [
       "<Figure size 432x288 with 1 Axes>"
      ]
     },
     "metadata": {},
     "output_type": "display_data"
    }
   ],
   "source": [
    "ages.plot.hist(grid=True, bins=19, rwidth=0.9, color='#607c8e')\n",
    "plt.title('Ages for 444 Athletes')"
   ]
  },
  {
   "cell_type": "code",
   "execution_count": null,
   "metadata": {},
   "outputs": [],
   "source": []
  }
 ],
 "metadata": {
  "kernelspec": {
   "display_name": "Python [conda env:ml]",
   "language": "python",
   "name": "conda-env-ml-py"
  },
  "language_info": {
   "codemirror_mode": {
    "name": "ipython",
    "version": 3
   },
   "file_extension": ".py",
   "mimetype": "text/x-python",
   "name": "python",
   "nbconvert_exporter": "python",
   "pygments_lexer": "ipython3",
   "version": "3.5.5"
  }
 },
 "nbformat": 4,
 "nbformat_minor": 2
}
